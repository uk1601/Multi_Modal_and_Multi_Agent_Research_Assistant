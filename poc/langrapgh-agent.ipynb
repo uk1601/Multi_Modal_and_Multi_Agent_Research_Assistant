{
 "cells": [
  {
   "cell_type": "code",
   "execution_count": 8,
   "id": "initial_id",
   "metadata": {
    "ExecuteTime": {
     "end_time": "2024-11-14T08:46:17.852041Z",
     "start_time": "2024-11-14T08:46:17.508488Z"
    },
    "collapsed": true
   },
   "outputs": [],
   "source": [
    "from semantic_router.encoders import OpenAIEncoder\n",
    "from typing import TypedDict, Annotated, List, Union\n",
    "from langchain_core.agents import AgentAction, AgentFinish\n",
    "from langchain_core.messages import BaseMessage\n",
    "import operator\n",
    "from typing import TypedDict, Annotated, List, Union\n",
    "from langchain_core.agents import AgentAction, AgentFinish\n",
    "from langchain_core.messages import BaseMessage\n",
    "import operator\n",
    "\n",
    "from pinecone import Pinecone, ServerlessSpec\n",
    "encoder = OpenAIEncoder(name='text-embedding-3-small')"
   ]
  },
  {
   "cell_type": "code",
   "execution_count": 9,
   "id": "44cfd92de01c29a5",
   "metadata": {
    "ExecuteTime": {
     "end_time": "2024-11-14T08:46:18.675851Z",
     "start_time": "2024-11-14T08:46:17.853058Z"
    }
   },
   "outputs": [
    {
     "data": {
      "text/plain": [
       "{'dimension': 1536,\n",
       " 'index_fullness': 0.0,\n",
       " 'namespaces': {'investment_research': {'vector_count': 2382}},\n",
       " 'total_vector_count': 2382}"
      ]
     },
     "execution_count": 9,
     "metadata": {},
     "output_type": "execute_result"
    }
   ],
   "source": [
    "\n",
    "\n",
    "spec = ServerlessSpec(\n",
    "    cloud=\"aws\",\n",
    "    region=\"us-east-1\",\n",
    ")\n",
    "index = pc.Index(\"cfa-research\")\n",
    "index.describe_index_stats()"
   ]
  },
  {
   "cell_type": "code",
   "execution_count": 10,
   "id": "d8eb3c6e0a5c3f1e",
   "metadata": {
    "ExecuteTime": {
     "end_time": "2024-11-14T08:46:18.696968Z",
     "start_time": "2024-11-14T08:46:18.682538Z"
    }
   },
   "outputs": [],
   "source": [
    "class AgentState(TypedDict):\n",
    "    input: str\n",
    "    chat_history: list[BaseMessage]\n",
    "    intermediate_steps: Annotated[list[tuple[AgentAction, str]], operator.add]"
   ]
  },
  {
   "cell_type": "code",
   "execution_count": 11,
   "id": "32a9c39099bd1932",
   "metadata": {
    "ExecuteTime": {
     "end_time": "2024-11-14T08:46:18.747057Z",
     "start_time": "2024-11-14T08:46:18.703132Z"
    }
   },
   "outputs": [],
   "source": [
    "from langchain_core.tools import tool\n",
    "import requests\n",
    "import re\n",
    "\n",
    "@tool(\"fetch_arxiv\")\n",
    "def fetch_arxiv(arxiv_id: str):\n",
    "    \"\"\"Gets the abstract from an ArXiv paper given the arxiv ID. Useful for\n",
    "    finding high-level context about a specific paper.\"\"\"\n",
    "    # get paper page in html\n",
    "    res = requests.get(\n",
    "        f\"https://export.arxiv.org/abs/{arxiv_id}\"\n",
    "    )\n",
    "    # search html for abstract\n",
    "    abstract_pattern = re.compile(\n",
    "    r'<blockquote class=\"abstract mathjax\">\\s*<span class=\"descriptor\">Abstract:</span>\\s*(.*?)\\s*</blockquote>',\n",
    "    re.DOTALL\n",
    "    )\n",
    "    re_match = abstract_pattern.search(res.text)\n",
    "    # return abstract text\n",
    "    if re_match:\n",
    "        return re_match.group(1)\n",
    "    else:\n",
    "        return \"Abstract not found.\"\n",
    "from langchain_core.tools import tool\n",
    "from serpapi import GoogleSearch\n",
    "import os\n",
    "\n",
    "@tool(\"search_google\")\n",
    "def search_google(query: str):\n",
    "    \"\"\"Searches Google for articles and web pages related to the query.\n",
    "    Returns a list of relevant search results with titles and snippets.\"\"\"\n",
    "    search = GoogleSearch({\n",
    "        \"q\": query,\n",
    "        \n",
    "        \"num\": 5  # Number of results to return\n",
    "    })\n",
    "    results = search.get_dict()\n",
    "    \n",
    "    formatted_results = []\n",
    "    for result in results.get(\"organic_results\", []):\n",
    "        formatted_results.append({\n",
    "            \"title\": result.get(\"title\"),\n",
    "            \"snippet\": result.get(\"snippet\"),\n",
    "            \"link\": result.get(\"link\")\n",
    "        })\n",
    "    return formatted_results\n",
    "\n",
    "@tool(\"search_scholar\")\n",
    "def search_scholar(query: str):\n",
    "    \"\"\"Searches Google Scholar for academic papers related to the query.\n",
    "    Returns a list of relevant academic papers with titles, authors, and abstracts.\"\"\"\n",
    "    search = GoogleSearch({\n",
    "        \"q\": query,\n",
    "        \n",
    "        \"engine\": \"google_scholar\",\n",
    "        \"num\": 5  # Number of results to return\n",
    "    })\n",
    "    \n",
    "    results = search.get_dict()\n",
    "    print(len(results))\n",
    "    formatted_results = []\n",
    "    for result in results.get(\"organic_results\", []):\n",
    "        formatted_results.append({\n",
    "            \"title\": result.get(\"title\"),\n",
    "            \"authors\": result.get(\"authors\", \"\"),\n",
    "            \"publication\": result.get(\"publication_info\", {}).get(\"summary\", \"\"),\n",
    "            \"snippet\": result.get(\"snippet\"),\n",
    "            \"link\": result.get(\"link\"),\n",
    "            \"citations\": result.get(\"inline_links\", {}).get(\"cited_by\", {}).get(\"total\", 0)\n",
    "        })\n",
    "    return formatted_results"
   ]
  },
  {
   "cell_type": "code",
   "execution_count": 12,
   "id": "ffee23eeaff6edff",
   "metadata": {
    "ExecuteTime": {
     "end_time": "2024-11-14T08:46:20.253954Z",
     "start_time": "2024-11-14T08:46:18.748946Z"
    }
   },
   "outputs": [
    {
     "name": "stdout",
     "output_type": "stream",
     "text": [
      "7\n"
     ]
    },
    {
     "data": {
      "text/plain": [
       "[{'title': 'Transformer for graphs: An overview from architecture perspective',\n",
       "  'authors': '',\n",
       "  'publication': 'E Min, R Chen, Y Bian, T Xu, K Zhao, W Huang… - arXiv preprint arXiv …, 2022 - arxiv.org',\n",
       "  'snippet': '… For example, on molpcba, we observe at most a 56% performance improvement compared with the vanilla Transformer. This observation confirms the effectiveness of graph-specific …',\n",
       "  'link': 'https://arxiv.org/abs/2202.08455',\n",
       "  'citations': 158},\n",
       " {'title': 'Transformer architecture and attention mechanisms in genome data analysis: a comprehensive review',\n",
       "  'authors': '',\n",
       "  'publication': 'SR Choi, M Lee - Biology, 2023 - mdpi.com',\n",
       "  'snippet': '… The emergence and rapid development of deep learning, specifically transformer-based … advancements in the application of transformer architectures and attention mechanisms to …',\n",
       "  'link': 'https://www.mdpi.com/2079-7737/12/7/1033',\n",
       "  'citations': 44},\n",
       " {'title': 'The evolved transformer',\n",
       "  'authors': '',\n",
       "  'publication': 'D So, Q Le, C Liang - International conference on machine …, 2019 - proceedings.mlr.press',\n",
       "  'snippet': '… architecture found in our experiments – the Evolved Transformer – demonstrates consistent improvement over the Transformer … architecture search and warm start it with the Transformer…',\n",
       "  'link': 'http://proceedings.mlr.press/v97/so19a',\n",
       "  'citations': 549},\n",
       " {'title': 'Improving transformer optimization through better initialization',\n",
       "  'authors': '',\n",
       "  'publication': 'XS Huang, F Perez, J Ba… - … Conference on Machine …, 2020 - proceedings.mlr.press',\n",
       "  'snippet': '… the Transformer encoder-decoder architecture originally … The full Transformer architecture with N layers is shown in … to the baseline model with a small improvement on the IWSLT’14 De-…',\n",
       "  'link': 'https://proceedings.mlr.press/v119/huang20f.html',\n",
       "  'citations': 150},\n",
       " {'title': 'Vitas: Vision transformer architecture search',\n",
       "  'authors': '',\n",
       "  'publication': 'X Su, S You, J Xie, M Zheng, F Wang, C Qian… - … on Computer Vision, 2022 - Springer',\n",
       "  'snippet': '… Vision transformers (ViTs) inherited the success of NLP but … one via the widely used neural architecture search (NAS) in … budget, our searched architecture achieves \\\\documentclass[…',\n",
       "  'link': 'https://link.springer.com/chapter/10.1007/978-3-031-19803-8_9',\n",
       "  'citations': 83}]"
      ]
     },
     "execution_count": 12,
     "metadata": {},
     "output_type": "execute_result"
    }
   ],
   "source": [
    "fetch_arxiv.invoke(\"2106.04561\")\n",
    "search_scholar.invoke(\"transformer architecture improvements\")"
   ]
  },
  {
   "cell_type": "code",
   "execution_count": 13,
   "id": "4911591d29500113",
   "metadata": {
    "ExecuteTime": {
     "end_time": "2024-11-14T08:46:20.915076Z",
     "start_time": "2024-11-14T08:46:20.258629Z"
    }
   },
   "outputs": [
    {
     "data": {
      "text/plain": [
       "[{'title': '10 top AI and machine learning trends for 2024',\n",
       "  'snippet': '10 top AI and machine learning trends for 2024 · 1. Multimodal AI · 2. Agentic AI · 3. Open source AI · 4. Retrieval-augmented generation · 5.',\n",
       "  'link': 'https://www.techtarget.com/searchenterpriseai/tip/9-top-AI-and-machine-learning-trends'},\n",
       " {'title': 'TOP 12 Machine Learning Trends To Impact Business in ...',\n",
       "  'snippet': 'Discover the latest innovations in machine learning technology and go over various examples of how to use them for your product in 2024.',\n",
       "  'link': 'https://mobidev.biz/blog/future-machine-learning-trends-impact-business'},\n",
       " {'title': 'Microsoft at ICML 2024: Innovations in machine learning',\n",
       "  'snippet': '68 papers by Microsoft researchers and their collaborators have been accepted this year, including four chosen for oral presentations.',\n",
       "  'link': 'https://www.microsoft.com/en-us/research/blog/microsoft-at-icml-2024-innovations-in-machine-learning/'},\n",
       " {'title': 'Advancements in Artificial Intelligence and Machine Learning',\n",
       "  'snippet': 'Two advancements in deep learning include convolutional neural networks (CNNs) and recurrent neural networks (RNNs). CNNs can easily parse ...',\n",
       "  'link': 'https://online-engineering.case.edu/blog/advancements-in-artificial-intelligence-and-machine-learning'}]"
      ]
     },
     "execution_count": 13,
     "metadata": {},
     "output_type": "execute_result"
    }
   ],
   "source": [
    "search_google.invoke(\"machine learning advances 2024\")"
   ]
  },
  {
   "cell_type": "code",
   "execution_count": 14,
   "id": "a3b9dc3c8a4f6ba",
   "metadata": {
    "ExecuteTime": {
     "end_time": "2024-11-14T08:46:20.925101Z",
     "start_time": "2024-11-14T08:46:20.916256Z"
    }
   },
   "outputs": [],
   "source": [
    "@tool(\"final_answer\")\n",
    "def final_answer(\n",
    "    introduction: str,\n",
    "    research_steps: str,\n",
    "    main_body: str,\n",
    "    conclusion: str,\n",
    "    sources: str\n",
    "):\n",
    "    \"\"\"Returns a natural language response to the user in the form of a research\n",
    "    report. There are several sections to this report, those are:\n",
    "    - `introduction`: a short paragraph introducing the user's question and the\n",
    "    topic we are researching.\n",
    "    - `research_steps`: a few bullet points explaining the steps that were taken\n",
    "    to research your report.\n",
    "    - `main_body`: this is where the bulk of high quality and concise\n",
    "    information that answers the user's question belongs. It is 3-4 paragraphs\n",
    "    long in length.\n",
    "    - `conclusion`: this is a short single paragraph conclusion providing a\n",
    "    concise but sophisticated view on what was found.\n",
    "    - `sources`: a bulletpoint list provided detailed sources for all information\n",
    "    referenced during the research process\n",
    "    \"\"\"\n",
    "    print(f\"\"\"\n",
    "    introduction: {introduction}\n",
    "    research_steps: {research_steps}\n",
    "    main_body: {main_body}\n",
    "    conclusion: {conclusion}\n",
    "    sources: {sources}\n",
    "    \"\"\")\n",
    "    return \"\""
   ]
  },
  {
   "cell_type": "code",
   "execution_count": 15,
   "id": "12cbbb504a3cfe38",
   "metadata": {
    "ExecuteTime": {
     "end_time": "2024-11-14T08:46:20.930948Z",
     "start_time": "2024-11-14T08:46:20.926284Z"
    }
   },
   "outputs": [],
   "source": [
    "from langchain_core.prompts import ChatPromptTemplate, MessagesPlaceholder\n",
    "\n",
    "system_prompt = \"\"\"You are the oracle, the great AI decision maker.\n",
    "Given the user's query you must decide what to do with it based on the\n",
    "list of tools provided to you.\n",
    "\n",
    "If you see that a tool has been used (in the scratchpad) with a particular\n",
    "query, do NOT use that same tool with the same query again. Also, do NOT use\n",
    "any tool more than twice (ie, if the tool appears in the scratchpad twice, do\n",
    "not use it again).\n",
    "\n",
    "You should aim to collect information from a diverse range of sources before\n",
    "providing the answer to the user. Once you have collected plenty of information\n",
    "to answer the user's question (stored in the scratchpad) use the final_answer\n",
    "tool.\"\"\"\n",
    "\n",
    "prompt = ChatPromptTemplate.from_messages([\n",
    "    (\"system\", system_prompt),\n",
    "    MessagesPlaceholder(variable_name=\"chat_history\"),\n",
    "    (\"user\", \"{input}\"),\n",
    "    (\"assistant\", \"scratchpad: {scratchpad}\"),\n",
    "])"
   ]
  },
  {
   "cell_type": "code",
   "execution_count": 37,
   "id": "c8b13ad4f58f59a4",
   "metadata": {
    "ExecuteTime": {
     "end_time": "2024-11-14T09:24:07.504008Z",
     "start_time": "2024-11-14T09:24:07.304040Z"
    }
   },
   "outputs": [],
   "source": [
    "from langchain_core.messages import ToolCall, ToolMessage\n",
    "from langchain_openai import ChatOpenAI\n",
    "\n",
    "llm = ChatOpenAI(\n",
    "    model=\"gpt-4o\",\n",
    "    openai_api_key=os.environ[\"OPENAI_API_KEY\"],\n",
    "    temperature=0\n",
    ")\n",
    "\n",
    "tools=[\n",
    "    fetch_arxiv,\n",
    "    search_google,\n",
    "    search_scholar,\n",
    "    final_answer\n",
    "]\n",
    "tool_str_to_func = {\n",
    "    \"fetch_arxiv\": fetch_arxiv,\n",
    "    \"search_google\": search_google,\n",
    "    \"search_scholar\": search_scholar,\n",
    "    \"final_answer\": final_answer    \n",
    "}\n",
    "\n",
    "# define a function to transform intermediate_steps from list\n",
    "# of AgentAction to scratchpad string\n",
    "def create_scratchpad(intermediate_steps: list[AgentAction]):\n",
    "    research_steps = []\n",
    "    for i, action in enumerate(intermediate_steps):\n",
    "        if action.log != \"TBD\":\n",
    "            # this was the ToolExecution\n",
    "            research_steps.append(\n",
    "                f\"Tool: {action.tool}, input: {action.tool_input}\\n\"\n",
    "                f\"Output: {action.log}\"\n",
    "            )\n",
    "    return \"\\n---\\n\".join(research_steps)\n",
    "\n",
    "oracle = (\n",
    "    {\n",
    "        \"input\": lambda x: x[\"input\"],\n",
    "        \"chat_history\": lambda x: x[\"chat_history\"],\n",
    "        \"scratchpad\": lambda x: create_scratchpad(\n",
    "            intermediate_steps=x[\"intermediate_steps\"]\n",
    "        ),\n",
    "    }\n",
    "    | prompt\n",
    "    | llm.bind_tools(tools, tool_choice=\"any\")\n",
    ")"
   ]
  },
  {
   "cell_type": "code",
   "execution_count": 17,
   "id": "c5d251f517800698",
   "metadata": {
    "ExecuteTime": {
     "end_time": "2024-11-14T08:46:23.823693Z",
     "start_time": "2024-11-14T08:46:20.966418Z"
    }
   },
   "outputs": [],
   "source": [
    "inputs = {\n",
    "    \"input\": \"The Economics of Private Equity: A Critical Review\",\n",
    "    \"chat_history\": [],\n",
    "    \"intermediate_steps\": [],\n",
    "}\n",
    "out = oracle.invoke(inputs)"
   ]
  },
  {
   "cell_type": "code",
   "execution_count": 18,
   "id": "e941a1d1eb3d9e99",
   "metadata": {
    "ExecuteTime": {
     "end_time": "2024-11-14T08:46:23.829064Z",
     "start_time": "2024-11-14T08:46:23.825073Z"
    }
   },
   "outputs": [
    {
     "name": "stdout",
     "output_type": "stream",
     "text": [
      "search_google\n",
      "search_scholar\n"
     ]
    }
   ],
   "source": [
    "for i in out.tool_calls:\n",
    "    print(i[\"name\"])"
   ]
  },
  {
   "cell_type": "code",
   "execution_count": 19,
   "id": "bf93a0fd81c2196d",
   "metadata": {
    "ExecuteTime": {
     "end_time": "2024-11-14T08:46:23.838925Z",
     "start_time": "2024-11-14T08:46:23.830553Z"
    }
   },
   "outputs": [],
   "source": [
    "def run_oracle(state: list):\n",
    "    print(\"run_oracle\")\n",
    "    print(f\"intermediate_steps: {state['intermediate_steps']}\")\n",
    "    out = oracle.invoke(state)\n",
    "    tool_name = out.tool_calls[0][\"name\"]\n",
    "    tool_args = out.tool_calls[0][\"args\"]\n",
    "    action_out = AgentAction(\n",
    "        tool=tool_name,\n",
    "        tool_input=tool_args,\n",
    "        log=\"TBD\"\n",
    "    )\n",
    "    return {\n",
    "        \"intermediate_steps\": [action_out]\n",
    "    }\n",
    "\n",
    "def router(state: list):\n",
    "    # return the tool name to use\n",
    "    if isinstance(state[\"intermediate_steps\"], list):\n",
    "        return state[\"intermediate_steps\"][-1].tool\n",
    "    else:\n",
    "        # if we output bad format go to final answer\n",
    "        print(\"Router invalid format\")\n",
    "        return \"final_answer\"\n",
    "    \n",
    "def run_tool(state: list):\n",
    "    # use this as helper function so we repeat less code\n",
    "    print(\"run_tool for\" + state[\"intermediate_steps\"][-1].tool)\n",
    "    for i in state[\"intermediate_steps\"]:\n",
    "        print(f\"{i.tool}: {i.tool_input}\")\n",
    "        print(f\"Output: {i.log}\")\n",
    "    tool_name = state[\"intermediate_steps\"][-1].tool\n",
    "    tool_args = state[\"intermediate_steps\"][-1].tool_input\n",
    "    print(f\"{tool_name}.invoke(input={tool_args})\")\n",
    "    # run tool\n",
    "    out = tool_str_to_func[tool_name].invoke(input=tool_args)\n",
    "    action_out = AgentAction(\n",
    "        tool=tool_name,\n",
    "        tool_input=tool_args,\n",
    "        log=str(out)\n",
    "    )\n",
    "    return {\"intermediate_steps\": [action_out]}"
   ]
  },
  {
   "cell_type": "code",
   "execution_count": 21,
   "id": "7c8fc66c7aea8274",
   "metadata": {
    "ExecuteTime": {
     "end_time": "2024-11-14T08:46:57.783837Z",
     "start_time": "2024-11-14T08:46:57.759448Z"
    }
   },
   "outputs": [],
   "source": [
    "from langgraph.graph import StateGraph, END\n",
    "from langchain.agents import AgentExecutor, create_react_agent, load_tools\n",
    "graph = StateGraph(AgentState)\n",
    "tool_str_to_func = {\n",
    "    \"fetch_arxiv\": fetch_arxiv,\n",
    "    \"search_google\": search_google,\n",
    "    \"search_scholar\": search_scholar,\n",
    "    \"final_answer\": final_answer    \n",
    "}\n",
    "graph.add_node(\"oracle\", run_oracle)\n",
    "graph.add_node(\"fetch_arxiv\", run_tool)\n",
    "graph.add_node(\"search_google\", run_tool)\n",
    "graph.add_node(\"search_scholar\", run_tool)\n",
    "graph.add_node(\"arxiv\", load_tools([\"arxiv\"])[0])\n",
    "graph.add_node(\"final_answer\", run_tool)\n",
    "\n",
    "graph.set_entry_point(\"oracle\")\n",
    "\n",
    "graph.add_conditional_edges(\n",
    "    source=\"oracle\",  # where in graph to start\n",
    "    path=router,  # function to determine which node is called\n",
    ")\n",
    "\n",
    "# create edges from each tool back to the oracle\n",
    "for tool_obj in tools:\n",
    "    if tool_obj.name != \"final_answer\":\n",
    "        graph.add_edge(tool_obj.name, \"oracle\")\n",
    "\n",
    "# if anything goes to final answer, it must then move to END\n",
    "graph.add_edge(\"final_answer\", END)\n",
    "\n",
    "runnable = graph.compile()"
   ]
  },
  {
   "cell_type": "code",
   "execution_count": 22,
   "id": "b5cf90fab5016858",
   "metadata": {
    "ExecuteTime": {
     "end_time": "2024-11-14T08:47:00.896587Z",
     "start_time": "2024-11-14T08:47:00.232089Z"
    }
   },
   "outputs": [
    {
     "data": {
      "image/png": "[encoded data removed]",
      "text/plain": [
       "<IPython.core.display.Image object>"
      ]
     },
     "execution_count": 22,
     "metadata": {},
     "output_type": "execute_result"
    }
   ],
   "source": [
    "from IPython.display import Image\n",
    "\n",
    "Image(runnable.get_graph().draw_png())"
   ]
  },
  {
   "cell_type": "code",
   "execution_count": null,
   "id": "f1a00b37828ebc34",
   "metadata": {},
   "outputs": [],
   "source": [
    "out = runnable.invoke({\n",
    "    \"input\": \"The Economics of Private Equity: A Critical Review\",\n",
    "    \"chat_history\": [],\n",
    "})"
   ]
  },
  {
   "cell_type": "code",
   "execution_count": null,
   "id": "3db47956db963593",
   "metadata": {},
   "outputs": [],
   "source": [
    "def build_report(output: dict):\n",
    "    output = output.get(\"intermediate_steps\")[-1].tool_input\n",
    "    research_steps = output[\"research_steps\"]\n",
    "    if type(research_steps) is list:\n",
    "        research_steps = \"\\n\".join([f\"- {r}\" for r in research_steps])\n",
    "    sources = output[\"sources\"]\n",
    "    if type(sources) is list:\n",
    "        sources = \"\\n\".join([f\"- {s}\" for s in sources])\n",
    "    return f\"\"\"\n",
    "INTRODUCTION\n",
    "------------\n",
    "{output[\"introduction\"]}\n",
    "\n",
    "RESEARCH STEPS\n",
    "--------------\n",
    "{research_steps}\n",
    "\n",
    "REPORT\n",
    "------\n",
    "{output[\"main_body\"]}\n",
    "\n",
    "CONCLUSION\n",
    "----------\n",
    "{output[\"conclusion\"]}\n",
    "\n",
    "SOURCES\n",
    "-------\n",
    "{sources}\n",
    "\"\"\""
   ]
  },
  {
   "cell_type": "code",
   "execution_count": null,
   "id": "89c00e0962fcc818",
   "metadata": {},
   "outputs": [],
   "source": [
    "build_report(out)"
   ]
  },
  {
   "cell_type": "code",
   "execution_count": null,
   "id": "c349756370e24f09",
   "metadata": {
    "ExecuteTime": {
     "end_time": "2024-11-14T08:56:42.941751Z",
     "start_time": "2024-11-14T08:56:42.177072Z"
    }
   },
   "outputs": [],
   "source": [
    "from langchain import hub\n",
    "from langchain.agents import AgentExecutor, create_react_agent, load_tools\n",
    "from langchain_openai import ChatOpenAI\n",
    "!source /Users/saisuryamadhav/Documents/export_api_keys.sh\n",
    "from dotenv import load_dotenv\n",
    "load_dotenv()\n",
    "import os\n",
    "\n",
    "llm = ChatOpenAI(temperature=0.0)\n",
    "tools = load_tools(\n",
    "    [\"arxiv\"],\n",
    ")\n",
    "print(os.getenv(\"LANGCHAIN_API_KEY\"))\n",
    "prompt = hub.pull(\"hwchase17/react\")\n",
    "\n",
    "agent = create_react_agent(llm, tools, prompt)\n",
    "agent_executor = AgentExecutor(agent=agent, tools=tools, verbose=True)\n",
    "\n"
   ]
  },
  {
   "cell_type": "code",
   "execution_count": null,
   "id": "6c2c4dc2053f67df",
   "metadata": {},
   "outputs": [],
   "source": [
    "from langchain_openai import ChatOpenAI\n",
    "\n",
    "llm = ChatOpenAI()\n",
    "llm.invoke(\"Hello, world!\")"
   ]
  },
  {
   "cell_type": "code",
   "execution_count": 26,
   "id": "3a85b6af305a2d61",
   "metadata": {
    "ExecuteTime": {
     "end_time": "2024-11-14T08:57:19.460594Z",
     "start_time": "2024-11-14T08:57:18.134309Z"
    }
   },
   "outputs": [
    {
     "name": "stdout",
     "output_type": "stream",
     "text": [
      "Published: 2020-12-28\n",
      "Title: Micro-expression spotting: A new benchmark\n",
      "Authors: Thuong-Khanh Tran, Quang-Nhat Vo, Xiaopeng Hong, Xiaobai Li, Guoying Zhao\n",
      "Summary: Micro-expressions (MEs) are brief and involuntary facial expressions that\n",
      "occur when people are trying to hide their true feelings or conceal their\n",
      "emotions. Based on psychology research, MEs play an important role in\n",
      "understanding genuine emotions, which leads to many potential applications.\n",
      "Therefore, ME analysis has become an attractive topic for various research\n",
      "areas, such as psychology, law enforcement, and psychotherapy. In the computer\n",
      "vision field, the study of MEs can be divided into two main tasks, spotting and\n",
      "recognition, which are used to identify positions of MEs in videos and\n",
      "determine the emotion category of the detected MEs, respectively. Recently,\n",
      "although much research has been done, no fully automatic system for analyzing\n",
      "MEs has yet been constructed on a practical level for two main reasons: most of\n",
      "the research on MEs only focuses on the recognition part, while abandoning the\n",
      "spotting task; current public datasets for ME spotting are not challenging\n",
      "enough to support developing a robust spotting algorithm. The contributions of\n",
      "this paper are threefold: (1) we introduce an extension of the SMIC-E database,\n",
      "namely the SMIC-E-Long database, which is a new challenging benchmark for ME\n",
      "spotting; (2) we suggest a new evaluation protocol that standardizes the\n",
      "comparison of various ME spotting techniques; (3) extensive experiments with\n",
      "handcrafted and deep learning-based approaches on the SMIC-E-Long database are\n",
      "performed for baseline evaluation.\n",
      "\n",
      "Published: 2024-02-15\n",
      "Title: ME-ViT: A Single-Load Memory-Efficient FPGA Accelerator for Vision Transformers\n",
      "Authors: Kyle Marino, Pengmiao Zhang, Viktor Prasanna\n",
      "Summary: Vision Transformers (ViTs) have emerged as a state-of-the-art solution for\n",
      "object classification tasks. However, their computational demands and high\n",
      "parameter count make them unsuitable for real-time inference, prompting the\n",
      "need for efficient hardware implementations. Existing hardware accelerators for\n",
      "ViTs suffer from frequent off-chip memory access, restricting the achievable\n",
      "throughput by memory bandwidth. In devices with a high compute-to-communication\n",
      "ratio (e.g., edge FPGAs with limited bandwidth), off-chip memory access imposes\n",
      "a severe bottleneck on overall throughput. This work proposes ME-ViT, a novel\n",
      "\\underline{M}emory \\underline{E}fficient FPGA accelerator for \\underline{ViT}\n",
      "inference that minimizes memory traffic. We propose a \\textit{single-load\n",
      "policy} in designing ME-ViT: model parameters are only loaded once,\n",
      "intermediate results are stored on-chip, and all operations are implemented in\n",
      "a single processing element. To achieve this goal, we design a memory-efficient\n",
      "processing element (ME-PE), which processes multiple key operations of ViT\n",
      "inference on the same architecture through the reuse of \\textit{multi-purpose\n",
      "buffers}. We also integrate the Softmax and LayerNorm functions into the ME-PE,\n",
      "minimizing stalls between matrix multiplications. We evaluate ME-ViT on\n",
      "systolic array sizes of 32 and 16, achieving up to a 9.22$\\times$ and\n",
      "17.89$\\times$ overall improvement in memory bandwidth, and a 2.16$\\times$\n",
      "improvement in throughput per DSP for both designs over state-of-the-art ViT\n",
      "accelerators on FPGA. ME-ViT achieves a power efficiency improvement of up to\n",
      "4.00$\\times$ (1.03$\\times$) over a GPU (FPGA) baseline. ME-ViT enables up to 5\n",
      "ME-PE instantiations on a Xilinx Alveo U200, achieving a 5.10$\\times$\n",
      "improvement in throughput over the state-of-the art FPGA baseline, and a\n",
      "5.85$\\times$ (1.51$\\times$) improvement in power efficiency over the GPU (FPGA)\n",
      "baseline.\n",
      "\n",
      "Published: 2023-12-08\n",
      "Title: Model Extraction Attacks Revisited\n",
      "Authors: Jiacheng Liang, Ren Pang, Changjiang Li, Ting Wang\n",
      "Summary: Model extraction (ME) attacks represent one major threat to\n",
      "Machine-Learning-as-a-Service (MLaaS) platforms by ``stealing'' th\n"
     ]
    }
   ],
   "source": []
  },
  {
   "cell_type": "code",
   "execution_count": 33,
   "id": "c7157e2be7961e13",
   "metadata": {
    "ExecuteTime": {
     "end_time": "2024-11-14T09:01:08.561624Z",
     "start_time": "2024-11-14T09:01:08.544800Z"
    }
   },
   "outputs": [],
   "source": [
    "\n",
    "@tool(\"fetch_arxiv\")\n",
    "def fetch_arxiv(query: str):\n",
    "    \"\"\"Fetches academic papers related to the query from arXiv.\n",
    "    Returns a list of relevant academic papers with titles, authors, and abstracts.\"\"\"\n",
    "    url = f\"http://export.arxiv.org/api/query?search_query=all:{query}&start=0&max_results=5\"\n",
    "    response = requests.get(url)\n",
    "    print(response.text)\n",
    "    papers = re.findall(r\"<entry>(.*?)</entry>\", response.text, re.DOTALL)\n",
    "    \n",
    "    formatted_papers = []\n",
    "    for paper in papers:\n",
    "        title = re.search(r\"<title>(.*?)</title>\", paper).group(1)\n",
    "        authors = re.findall(r\"<author><name>(.*?)</name>\", paper)\n",
    "        abstract = re.search(r\"<summary>(.*?)</summary>\", paper).group(1)\n",
    "        formatted_papers.append({\n",
    "            \"title\": title,\n",
    "            \"authors\": authors,\n",
    "            \"abstract\": abstract\n",
    "        })\n",
    "    return formatted_papers"
   ]
  },
  {
   "cell_type": "code",
   "execution_count": 34,
   "id": "31cd61731482e5c4",
   "metadata": {
    "ExecuteTime": {
     "end_time": "2024-11-14T09:01:11.097511Z",
     "start_time": "2024-11-14T09:01:10.668195Z"
    }
   },
   "outputs": [
    {
     "name": "stdout",
     "output_type": "stream",
     "text": [
      "<?xml version=\"1.0\" encoding=\"UTF-8\"?>\n",
      "<feed xmlns=\"http://www.w3.org/2005/Atom\">\n",
      "  <link href=\"http://arxiv.org/api/query?search_query%3Dall%3Atransformer%20architecture%20improvements%26id_list%3D%26start%3D0%26max_results%3D5\" rel=\"self\" type=\"application/atom+xml\"/>\n",
      "  <title type=\"html\">ArXiv Query: search_query=all:transformer architecture improvements&amp;id_list=&amp;start=0&amp;max_results=5</title>\n",
      "  <id>http://arxiv.org/api/o4p52Y+ev8fbkFWZsqUBOb0RaSw</id>\n",
      "  <updated>2024-11-14T00:00:00-05:00</updated>\n",
      "  <opensearch:totalResults xmlns:opensearch=\"http://a9.com/-/spec/opensearch/1.1/\">462924</opensearch:totalResults>\n",
      "  <opensearch:startIndex xmlns:opensearch=\"http://a9.com/-/spec/opensearch/1.1/\">0</opensearch:startIndex>\n",
      "  <opensearch:itemsPerPage xmlns:opensearch=\"http://a9.com/-/spec/opensearch/1.1/\">5</opensearch:itemsPerPage>\n",
      "  <entry>\n",
      "    <id>http://arxiv.org/abs/2311.12678v1</id>\n",
      "    <updated>2023-11-21T15:36:20Z</updated>\n",
      "    <published>2023-11-21T15:36:20Z</published>\n",
      "    <title>Interpretation of the Transformer and Improvement of the Extractor</title>\n",
      "    <summary>  It has been over six years since the Transformer architecture was put\n",
      "forward. Surprisingly, the vanilla Transformer architecture is still widely\n",
      "used today. One reason is that the lack of deep understanding and comprehensive\n",
      "interpretation of the Transformer architecture makes it more challenging to\n",
      "improve the Transformer architecture. In this paper, we first interpret the\n",
      "Transformer architecture comprehensively in plain words based on our\n",
      "understanding and experiences. The interpretations are further proved and\n",
      "verified. These interpretations also cover the Extractor, a family of drop-in\n",
      "replacements for the multi-head self-attention in the Transformer architecture.\n",
      "Then, we propose an improvement on a type of the Extractor that outperforms the\n",
      "self-attention, without introducing additional trainable parameters.\n",
      "Experimental results demonstrate that the improved Extractor performs even\n",
      "better, showing a way to improve the Transformer architecture.\n",
      "</summary>\n",
      "    <author>\n",
      "      <name>Zhe Chen</name>\n",
      "    </author>\n",
      "    <link href=\"http://arxiv.org/abs/2311.12678v1\" rel=\"alternate\" type=\"text/html\"/>\n",
      "    <link title=\"pdf\" href=\"http://arxiv.org/pdf/2311.12678v1\" rel=\"related\" type=\"application/pdf\"/>\n",
      "    <arxiv:primary_category xmlns:arxiv=\"http://arxiv.org/schemas/atom\" term=\"cs.LG\" scheme=\"http://arxiv.org/schemas/atom\"/>\n",
      "    <category term=\"cs.LG\" scheme=\"http://arxiv.org/schemas/atom\"/>\n",
      "  </entry>\n",
      "  <entry>\n",
      "    <id>http://arxiv.org/abs/2006.08231v1</id>\n",
      "    <updated>2020-06-15T09:03:48Z</updated>\n",
      "    <published>2020-06-15T09:03:48Z</published>\n",
      "    <title>Differentiable Neural Architecture Transformation for Reproducible\n",
      "  Architecture Improvement</title>\n",
      "    <summary>  Recently, Neural Architecture Search (NAS) methods are introduced and show\n",
      "impressive performance on many benchmarks. Among those NAS studies, Neural\n",
      "Architecture Transformer (NAT) aims to improve the given neural architecture to\n",
      "have better performance while maintaining computational costs. However, NAT has\n",
      "limitations about a lack of reproducibility. In this paper, we propose\n",
      "differentiable neural architecture transformation that is reproducible and\n",
      "efficient. The proposed method shows stable performance on various\n",
      "architectures. Extensive reproducibility experiments on two datasets, i.e.,\n",
      "CIFAR-10 and Tiny Imagenet, present that the proposed method definitely\n",
      "outperforms NAT and be applicable to other models and datasets.\n",
      "</summary>\n",
      "    <author>\n",
      "      <name>Do-Guk Kim</name>\n",
      "    </author>\n",
      "    <author>\n",
      "      <name>Heung-Chang Lee</name>\n",
      "    </author>\n",
      "    <link href=\"http://arxiv.org/abs/2006.08231v1\" rel=\"alternate\" type=\"text/html\"/>\n",
      "    <link title=\"pdf\" href=\"http://arxiv.org/pdf/2006.08231v1\" rel=\"related\" type=\"application/pdf\"/>\n",
      "    <arxiv:primary_category xmlns:arxiv=\"http://arxiv.org/schemas/atom\" term=\"cs.LG\" scheme=\"http://arxiv.org/schemas/atom\"/>\n",
      "    <category term=\"cs.LG\" scheme=\"http://arxiv.org/schemas/atom\"/>\n",
      "    <category term=\"cs.CV\" scheme=\"http://arxiv.org/schemas/atom\"/>\n",
      "    <category term=\"stat.ML\" scheme=\"http://arxiv.org/schemas/atom\"/>\n",
      "  </entry>\n",
      "  <entry>\n",
      "    <id>http://arxiv.org/abs/2201.00978v1</id>\n",
      "    <updated>2022-01-04T04:56:57Z</updated>\n",
      "    <published>2022-01-04T04:56:57Z</published>\n",
      "    <title>PyramidTNT: Improved Transformer-in-Transformer Baselines with Pyramid\n",
      "  Architecture</title>\n",
      "    <summary>  Transformer networks have achieved great progress for computer vision tasks.\n",
      "Transformer-in-Transformer (TNT) architecture utilizes inner transformer and\n",
      "outer transformer to extract both local and global representations. In this\n",
      "work, we present new TNT baselines by introducing two advanced designs: 1)\n",
      "pyramid architecture, and 2) convolutional stem. The new \"PyramidTNT\"\n",
      "significantly improves the original TNT by establishing hierarchical\n",
      "representations. PyramidTNT achieves better performances than the previous\n",
      "state-of-the-art vision transformers such as Swin Transformer. We hope this new\n",
      "baseline will be helpful to the further research and application of vision\n",
      "transformer. Code will be available at\n",
      "https://github.com/huawei-noah/CV-Backbones/tree/master/tnt_pytorch.\n",
      "</summary>\n",
      "    <author>\n",
      "      <name>Kai Han</name>\n",
      "    </author>\n",
      "    <author>\n",
      "      <name>Jianyuan Guo</name>\n",
      "    </author>\n",
      "    <author>\n",
      "      <name>Yehui Tang</name>\n",
      "    </author>\n",
      "    <author>\n",
      "      <name>Yunhe Wang</name>\n",
      "    </author>\n",
      "    <arxiv:comment xmlns:arxiv=\"http://arxiv.org/schemas/atom\">Tech Report. An extension of \"Transformer in Transformer\"\n",
      "  (arXiv:2103.00112)</arxiv:comment>\n",
      "    <link href=\"http://arxiv.org/abs/2201.00978v1\" rel=\"alternate\" type=\"text/html\"/>\n",
      "    <link title=\"pdf\" href=\"http://arxiv.org/pdf/2201.00978v1\" rel=\"related\" type=\"application/pdf\"/>\n",
      "    <arxiv:primary_category xmlns:arxiv=\"http://arxiv.org/schemas/atom\" term=\"cs.CV\" scheme=\"http://arxiv.org/schemas/atom\"/>\n",
      "    <category term=\"cs.CV\" scheme=\"http://arxiv.org/schemas/atom\"/>\n",
      "  </entry>\n",
      "  <entry>\n",
      "    <id>http://arxiv.org/abs/1806.02639v1</id>\n",
      "    <updated>2018-06-07T12:25:05Z</updated>\n",
      "    <published>2018-06-07T12:25:05Z</published>\n",
      "    <title>Path-Level Network Transformation for Efficient Architecture Search</title>\n",
      "    <summary>  We introduce a new function-preserving transformation for efficient neural\n",
      "architecture search. This network transformation allows reusing previously\n",
      "trained networks and existing successful architectures that improves sample\n",
      "efficiency. We aim to address the limitation of current network transformation\n",
      "operations that can only perform layer-level architecture modifications, such\n",
      "as adding (pruning) filters or inserting (removing) a layer, which fails to\n",
      "change the topology of connection paths. Our proposed path-level transformation\n",
      "operations enable the meta-controller to modify the path topology of the given\n",
      "network while keeping the merits of reusing weights, and thus allow efficiently\n",
      "designing effective structures with complex path topologies like Inception\n",
      "models. We further propose a bidirectional tree-structured reinforcement\n",
      "learning meta-controller to explore a simple yet highly expressive\n",
      "tree-structured architecture space that can be viewed as a generalization of\n",
      "multi-branch architectures. We experimented on the image classification\n",
      "datasets with limited computational resources (about 200 GPU-hours), where we\n",
      "observed improved parameter efficiency and better test results (97.70% test\n",
      "accuracy on CIFAR-10 with 14.3M parameters and 74.6% top-1 accuracy on ImageNet\n",
      "in the mobile setting), demonstrating the effectiveness and transferability of\n",
      "our designed architectures.\n",
      "</summary>\n",
      "    <author>\n",
      "      <name>Han Cai</name>\n",
      "    </author>\n",
      "    <author>\n",
      "      <name>Jiacheng Yang</name>\n",
      "    </author>\n",
      "    <author>\n",
      "      <name>Weinan Zhang</name>\n",
      "    </author>\n",
      "    <author>\n",
      "      <name>Song Han</name>\n",
      "    </author>\n",
      "    <author>\n",
      "      <name>Yong Yu</name>\n",
      "    </author>\n",
      "    <arxiv:comment xmlns:arxiv=\"http://arxiv.org/schemas/atom\">ICML 2018</arxiv:comment>\n",
      "    <link href=\"http://arxiv.org/abs/1806.02639v1\" rel=\"alternate\" type=\"text/html\"/>\n",
      "    <link title=\"pdf\" href=\"http://arxiv.org/pdf/1806.02639v1\" rel=\"related\" type=\"application/pdf\"/>\n",
      "    <arxiv:primary_category xmlns:arxiv=\"http://arxiv.org/schemas/atom\" term=\"cs.LG\" scheme=\"http://arxiv.org/schemas/atom\"/>\n",
      "    <category term=\"cs.LG\" scheme=\"http://arxiv.org/schemas/atom\"/>\n",
      "    <category term=\"cs.AI\" scheme=\"http://arxiv.org/schemas/atom\"/>\n",
      "    <category term=\"stat.ML\" scheme=\"http://arxiv.org/schemas/atom\"/>\n",
      "  </entry>\n",
      "  <entry>\n",
      "    <id>http://arxiv.org/abs/2106.07211v1</id>\n",
      "    <updated>2021-06-14T07:56:33Z</updated>\n",
      "    <published>2021-06-14T07:56:33Z</published>\n",
      "    <title>Differentiable Neural Architecture Search with Morphism-based\n",
      "  Transformable Backbone Architectures</title>\n",
      "    <summary>  This study aims at making the architecture search process more adaptive for\n",
      "one-shot or online training. It is extended from the existing study on\n",
      "differentiable neural architecture search, and we made the backbone\n",
      "architecture transformable rather than fixed during the training process. As is\n",
      "known, differentiable neural architecture search (DARTS) requires a pre-defined\n",
      "over-parameterized backbone architecture, while its size is to be determined\n",
      "manually. Also, in DARTS backbone, Hadamard product of two elements is not\n",
      "introduced, which exists in both LSTM and GRU cells for recurrent nets. This\n",
      "study introduces a growing mechanism for differentiable neural architecture\n",
      "search based on network morphism. It enables growing of the cell structures\n",
      "from small size towards large size ones with one-shot training. Two modes can\n",
      "be applied in integrating the growing and original pruning process. We also\n",
      "implement a recently proposed two-input backbone architecture for recurrent\n",
      "neural networks. Initial experimental results indicate that our approach and\n",
      "the two-input backbone structure can be quite effective compared with other\n",
      "baseline architectures including LSTM, in a variety of learning tasks including\n",
      "multi-variate time series forecasting and language modeling. On the other hand,\n",
      "we find that dynamic network transformation is promising in improving the\n",
      "efficiency of differentiable architecture search.\n",
      "</summary>\n",
      "    <author>\n",
      "      <name>Renlong Jie</name>\n",
      "    </author>\n",
      "    <author>\n",
      "      <name>Junbin Gao</name>\n",
      "    </author>\n",
      "    <link href=\"http://arxiv.org/abs/2106.07211v1\" rel=\"alternate\" type=\"text/html\"/>\n",
      "    <link title=\"pdf\" href=\"http://arxiv.org/pdf/2106.07211v1\" rel=\"related\" type=\"application/pdf\"/>\n",
      "    <arxiv:primary_category xmlns:arxiv=\"http://arxiv.org/schemas/atom\" term=\"cs.AI\" scheme=\"http://arxiv.org/schemas/atom\"/>\n",
      "    <category term=\"cs.AI\" scheme=\"http://arxiv.org/schemas/atom\"/>\n",
      "  </entry>\n",
      "</feed>\n",
      "\n"
     ]
    },
    {
     "ename": "AttributeError",
     "evalue": "'NoneType' object has no attribute 'group'",
     "output_type": "error",
     "traceback": [
      "\u001b[0;31m---------------------------------------------------------------------------\u001b[0m",
      "\u001b[0;31mAttributeError\u001b[0m                            Traceback (most recent call last)",
      "Cell \u001b[0;32mIn[34], line 1\u001b[0m\n\u001b[0;32m----> 1\u001b[0m \u001b[43mfetch_arxiv\u001b[49m\u001b[38;5;241;43m.\u001b[39;49m\u001b[43minvoke\u001b[49m\u001b[43m(\u001b[49m\u001b[38;5;124;43m\"\u001b[39;49m\u001b[38;5;124;43mtransformer architecture improvements\u001b[39;49m\u001b[38;5;124;43m\"\u001b[39;49m\u001b[43m)\u001b[49m\n",
      "File \u001b[0;32m~/Library/Caches/pypoetry/virtualenvs/ass4-F2LELffA-py3.12/lib/python3.12/site-packages/langchain_core/tools/base.py:484\u001b[0m, in \u001b[0;36mBaseTool.invoke\u001b[0;34m(self, input, config, **kwargs)\u001b[0m\n\u001b[1;32m    477\u001b[0m \u001b[38;5;28;01mdef\u001b[39;00m \u001b[38;5;21minvoke\u001b[39m(\n\u001b[1;32m    478\u001b[0m     \u001b[38;5;28mself\u001b[39m,\n\u001b[1;32m    479\u001b[0m     \u001b[38;5;28minput\u001b[39m: Union[\u001b[38;5;28mstr\u001b[39m, \u001b[38;5;28mdict\u001b[39m, ToolCall],\n\u001b[1;32m    480\u001b[0m     config: Optional[RunnableConfig] \u001b[38;5;241m=\u001b[39m \u001b[38;5;28;01mNone\u001b[39;00m,\n\u001b[1;32m    481\u001b[0m     \u001b[38;5;241m*\u001b[39m\u001b[38;5;241m*\u001b[39mkwargs: Any,\n\u001b[1;32m    482\u001b[0m ) \u001b[38;5;241m-\u001b[39m\u001b[38;5;241m>\u001b[39m Any:\n\u001b[1;32m    483\u001b[0m     tool_input, kwargs \u001b[38;5;241m=\u001b[39m _prep_run_args(\u001b[38;5;28minput\u001b[39m, config, \u001b[38;5;241m*\u001b[39m\u001b[38;5;241m*\u001b[39mkwargs)\n\u001b[0;32m--> 484\u001b[0m     \u001b[38;5;28;01mreturn\u001b[39;00m \u001b[38;5;28;43mself\u001b[39;49m\u001b[38;5;241;43m.\u001b[39;49m\u001b[43mrun\u001b[49m\u001b[43m(\u001b[49m\u001b[43mtool_input\u001b[49m\u001b[43m,\u001b[49m\u001b[43m \u001b[49m\u001b[38;5;241;43m*\u001b[39;49m\u001b[38;5;241;43m*\u001b[39;49m\u001b[43mkwargs\u001b[49m\u001b[43m)\u001b[49m\n",
      "File \u001b[0;32m~/Library/Caches/pypoetry/virtualenvs/ass4-F2LELffA-py3.12/lib/python3.12/site-packages/langchain_core/tools/base.py:689\u001b[0m, in \u001b[0;36mBaseTool.run\u001b[0;34m(self, tool_input, verbose, start_color, color, callbacks, tags, metadata, run_name, run_id, config, tool_call_id, **kwargs)\u001b[0m\n\u001b[1;32m    687\u001b[0m \u001b[38;5;28;01mif\u001b[39;00m error_to_raise:\n\u001b[1;32m    688\u001b[0m     run_manager\u001b[38;5;241m.\u001b[39mon_tool_error(error_to_raise)\n\u001b[0;32m--> 689\u001b[0m     \u001b[38;5;28;01mraise\u001b[39;00m error_to_raise\n\u001b[1;32m    690\u001b[0m output \u001b[38;5;241m=\u001b[39m _format_output(content, artifact, tool_call_id, \u001b[38;5;28mself\u001b[39m\u001b[38;5;241m.\u001b[39mname, status)\n\u001b[1;32m    691\u001b[0m run_manager\u001b[38;5;241m.\u001b[39mon_tool_end(output, color\u001b[38;5;241m=\u001b[39mcolor, name\u001b[38;5;241m=\u001b[39m\u001b[38;5;28mself\u001b[39m\u001b[38;5;241m.\u001b[39mname, \u001b[38;5;241m*\u001b[39m\u001b[38;5;241m*\u001b[39mkwargs)\n",
      "File \u001b[0;32m~/Library/Caches/pypoetry/virtualenvs/ass4-F2LELffA-py3.12/lib/python3.12/site-packages/langchain_core/tools/base.py:657\u001b[0m, in \u001b[0;36mBaseTool.run\u001b[0;34m(self, tool_input, verbose, start_color, color, callbacks, tags, metadata, run_name, run_id, config, tool_call_id, **kwargs)\u001b[0m\n\u001b[1;32m    655\u001b[0m \u001b[38;5;28;01mif\u001b[39;00m config_param \u001b[38;5;241m:=\u001b[39m _get_runnable_config_param(\u001b[38;5;28mself\u001b[39m\u001b[38;5;241m.\u001b[39m_run):\n\u001b[1;32m    656\u001b[0m     tool_kwargs[config_param] \u001b[38;5;241m=\u001b[39m config\n\u001b[0;32m--> 657\u001b[0m response \u001b[38;5;241m=\u001b[39m \u001b[43mcontext\u001b[49m\u001b[38;5;241;43m.\u001b[39;49m\u001b[43mrun\u001b[49m\u001b[43m(\u001b[49m\u001b[38;5;28;43mself\u001b[39;49m\u001b[38;5;241;43m.\u001b[39;49m\u001b[43m_run\u001b[49m\u001b[43m,\u001b[49m\u001b[43m \u001b[49m\u001b[38;5;241;43m*\u001b[39;49m\u001b[43mtool_args\u001b[49m\u001b[43m,\u001b[49m\u001b[43m \u001b[49m\u001b[38;5;241;43m*\u001b[39;49m\u001b[38;5;241;43m*\u001b[39;49m\u001b[43mtool_kwargs\u001b[49m\u001b[43m)\u001b[49m\n\u001b[1;32m    658\u001b[0m \u001b[38;5;28;01mif\u001b[39;00m \u001b[38;5;28mself\u001b[39m\u001b[38;5;241m.\u001b[39mresponse_format \u001b[38;5;241m==\u001b[39m \u001b[38;5;124m\"\u001b[39m\u001b[38;5;124mcontent_and_artifact\u001b[39m\u001b[38;5;124m\"\u001b[39m:\n\u001b[1;32m    659\u001b[0m     \u001b[38;5;28;01mif\u001b[39;00m \u001b[38;5;129;01mnot\u001b[39;00m \u001b[38;5;28misinstance\u001b[39m(response, \u001b[38;5;28mtuple\u001b[39m) \u001b[38;5;129;01mor\u001b[39;00m \u001b[38;5;28mlen\u001b[39m(response) \u001b[38;5;241m!=\u001b[39m \u001b[38;5;241m2\u001b[39m:\n",
      "File \u001b[0;32m~/Library/Caches/pypoetry/virtualenvs/ass4-F2LELffA-py3.12/lib/python3.12/site-packages/langchain_core/tools/structured.py:80\u001b[0m, in \u001b[0;36mStructuredTool._run\u001b[0;34m(self, config, run_manager, *args, **kwargs)\u001b[0m\n\u001b[1;32m     78\u001b[0m     \u001b[38;5;28;01mif\u001b[39;00m config_param \u001b[38;5;241m:=\u001b[39m _get_runnable_config_param(\u001b[38;5;28mself\u001b[39m\u001b[38;5;241m.\u001b[39mfunc):\n\u001b[1;32m     79\u001b[0m         kwargs[config_param] \u001b[38;5;241m=\u001b[39m config\n\u001b[0;32m---> 80\u001b[0m     \u001b[38;5;28;01mreturn\u001b[39;00m \u001b[38;5;28;43mself\u001b[39;49m\u001b[38;5;241;43m.\u001b[39;49m\u001b[43mfunc\u001b[49m\u001b[43m(\u001b[49m\u001b[38;5;241;43m*\u001b[39;49m\u001b[43margs\u001b[49m\u001b[43m,\u001b[49m\u001b[43m \u001b[49m\u001b[38;5;241;43m*\u001b[39;49m\u001b[38;5;241;43m*\u001b[39;49m\u001b[43mkwargs\u001b[49m\u001b[43m)\u001b[49m\n\u001b[1;32m     81\u001b[0m msg \u001b[38;5;241m=\u001b[39m \u001b[38;5;124m\"\u001b[39m\u001b[38;5;124mStructuredTool does not support sync invocation.\u001b[39m\u001b[38;5;124m\"\u001b[39m\n\u001b[1;32m     82\u001b[0m \u001b[38;5;28;01mraise\u001b[39;00m \u001b[38;5;167;01mNotImplementedError\u001b[39;00m(msg)\n",
      "Cell \u001b[0;32mIn[33], line 14\u001b[0m, in \u001b[0;36mfetch_arxiv\u001b[0;34m(query)\u001b[0m\n\u001b[1;32m     12\u001b[0m     title \u001b[38;5;241m=\u001b[39m re\u001b[38;5;241m.\u001b[39msearch(\u001b[38;5;124mr\u001b[39m\u001b[38;5;124m\"\u001b[39m\u001b[38;5;124m<title>(.*?)</title>\u001b[39m\u001b[38;5;124m\"\u001b[39m, paper)\u001b[38;5;241m.\u001b[39mgroup(\u001b[38;5;241m1\u001b[39m)\n\u001b[1;32m     13\u001b[0m     authors \u001b[38;5;241m=\u001b[39m re\u001b[38;5;241m.\u001b[39mfindall(\u001b[38;5;124mr\u001b[39m\u001b[38;5;124m\"\u001b[39m\u001b[38;5;124m<author><name>(.*?)</name>\u001b[39m\u001b[38;5;124m\"\u001b[39m, paper)\n\u001b[0;32m---> 14\u001b[0m     abstract \u001b[38;5;241m=\u001b[39m \u001b[43mre\u001b[49m\u001b[38;5;241;43m.\u001b[39;49m\u001b[43msearch\u001b[49m\u001b[43m(\u001b[49m\u001b[38;5;124;43mr\u001b[39;49m\u001b[38;5;124;43m\"\u001b[39;49m\u001b[38;5;124;43m<summary>(.*?)</summary>\u001b[39;49m\u001b[38;5;124;43m\"\u001b[39;49m\u001b[43m,\u001b[49m\u001b[43m \u001b[49m\u001b[43mpaper\u001b[49m\u001b[43m)\u001b[49m\u001b[38;5;241;43m.\u001b[39;49m\u001b[43mgroup\u001b[49m(\u001b[38;5;241m1\u001b[39m)\n\u001b[1;32m     15\u001b[0m     formatted_papers\u001b[38;5;241m.\u001b[39mappend({\n\u001b[1;32m     16\u001b[0m         \u001b[38;5;124m\"\u001b[39m\u001b[38;5;124mtitle\u001b[39m\u001b[38;5;124m\"\u001b[39m: title,\n\u001b[1;32m     17\u001b[0m         \u001b[38;5;124m\"\u001b[39m\u001b[38;5;124mauthors\u001b[39m\u001b[38;5;124m\"\u001b[39m: authors,\n\u001b[1;32m     18\u001b[0m         \u001b[38;5;124m\"\u001b[39m\u001b[38;5;124mabstract\u001b[39m\u001b[38;5;124m\"\u001b[39m: abstract\n\u001b[1;32m     19\u001b[0m     })\n\u001b[1;32m     20\u001b[0m \u001b[38;5;28;01mreturn\u001b[39;00m formatted_papers\n",
      "\u001b[0;31mAttributeError\u001b[0m: 'NoneType' object has no attribute 'group'"
     ]
    }
   ],
   "source": [
    "fetch_arxiv.invoke(\"transformer architecture improvements\")"
   ]
  },
  {
   "cell_type": "code",
   "execution_count": 36,
   "id": "99da9082678a404f",
   "metadata": {
    "ExecuteTime": {
     "end_time": "2024-11-14T09:06:06.458679Z",
     "start_time": "2024-11-14T09:06:06.144539Z"
    }
   },
   "outputs": [
    {
     "name": "stderr",
     "output_type": "stream",
     "text": [
      "2024-11-14 04:06:06,155 - INFO - Fetching papers for query: transformer architecture improvements\n",
      "2024-11-14 04:06:06,456 - INFO - Successfully fetched 5 papers\n"
     ]
    },
    {
     "name": "stdout",
     "output_type": "stream",
     "text": [
      "[{'title': 'Interpretation of the Transformer and Improvement of the Extractor', 'authors': ['Zhe Chen'], 'abstract': 'It has been over six years since the Transformer architecture was put\\nforward. Surprisingly, the vanilla Transformer architecture is still widely\\nused today. One reason is that the lack of deep understanding and comprehensive\\ninterpretation of the Transformer architecture makes it more challenging to\\nimprove the Transformer architecture. In this paper, we first interpret the\\nTransformer architecture comprehensively in plain words based on our\\nunderstanding and experiences. The interpretations are further proved and\\nverified. These interpretations also cover the Extractor, a family of drop-in\\nreplacements for the multi-head self-attention in the Transformer architecture.\\nThen, we propose an improvement on a type of the Extractor that outperforms the\\nself-attention, without introducing additional trainable parameters.\\nExperimental results demonstrate that the improved Extractor performs even\\nbetter, showing a way to improve the Transformer architecture.'}, {'title': 'Differentiable Neural Architecture Transformation for Reproducible\\n  Architecture Improvement', 'authors': ['Do-Guk Kim', 'Heung-Chang Lee'], 'abstract': 'Recently, Neural Architecture Search (NAS) methods are introduced and show\\nimpressive performance on many benchmarks. Among those NAS studies, Neural\\nArchitecture Transformer (NAT) aims to improve the given neural architecture to\\nhave better performance while maintaining computational costs. However, NAT has\\nlimitations about a lack of reproducibility. In this paper, we propose\\ndifferentiable neural architecture transformation that is reproducible and\\nefficient. The proposed method shows stable performance on various\\narchitectures. Extensive reproducibility experiments on two datasets, i.e.,\\nCIFAR-10 and Tiny Imagenet, present that the proposed method definitely\\noutperforms NAT and be applicable to other models and datasets.'}, {'title': 'PyramidTNT: Improved Transformer-in-Transformer Baselines with Pyramid\\n  Architecture', 'authors': ['Kai Han', 'Jianyuan Guo', 'Yehui Tang', 'Yunhe Wang'], 'abstract': 'Transformer networks have achieved great progress for computer vision tasks.\\nTransformer-in-Transformer (TNT) architecture utilizes inner transformer and\\nouter transformer to extract both local and global representations. In this\\nwork, we present new TNT baselines by introducing two advanced designs: 1)\\npyramid architecture, and 2) convolutional stem. The new \"PyramidTNT\"\\nsignificantly improves the original TNT by establishing hierarchical\\nrepresentations. PyramidTNT achieves better performances than the previous\\nstate-of-the-art vision transformers such as Swin Transformer. We hope this new\\nbaseline will be helpful to the further research and application of vision\\ntransformer. Code will be available at\\nhttps://github.com/huawei-noah/CV-Backbones/tree/master/tnt_pytorch.'}, {'title': 'Path-Level Network Transformation for Efficient Architecture Search', 'authors': ['Han Cai', 'Jiacheng Yang', 'Weinan Zhang', 'Song Han', 'Yong Yu'], 'abstract': 'We introduce a new function-preserving transformation for efficient neural\\narchitecture search. This network transformation allows reusing previously\\ntrained networks and existing successful architectures that improves sample\\nefficiency. We aim to address the limitation of current network transformation\\noperations that can only perform layer-level architecture modifications, such\\nas adding (pruning) filters or inserting (removing) a layer, which fails to\\nchange the topology of connection paths. Our proposed path-level transformation\\noperations enable the meta-controller to modify the path topology of the given\\nnetwork while keeping the merits of reusing weights, and thus allow efficiently\\ndesigning effective structures with complex path topologies like Inception\\nmodels. We further propose a bidirectional tree-structured reinforcement\\nlearning meta-controller to explore a simple yet highly expressive\\ntree-structured architecture space that can be viewed as a generalization of\\nmulti-branch architectures. We experimented on the image classification\\ndatasets with limited computational resources (about 200 GPU-hours), where we\\nobserved improved parameter efficiency and better test results (97.70% test\\naccuracy on CIFAR-10 with 14.3M parameters and 74.6% top-1 accuracy on ImageNet\\nin the mobile setting), demonstrating the effectiveness and transferability of\\nour designed architectures.'}, {'title': 'Differentiable Neural Architecture Search with Morphism-based\\n  Transformable Backbone Architectures', 'authors': ['Renlong Jie', 'Junbin Gao'], 'abstract': 'This study aims at making the architecture search process more adaptive for\\none-shot or online training. It is extended from the existing study on\\ndifferentiable neural architecture search, and we made the backbone\\narchitecture transformable rather than fixed during the training process. As is\\nknown, differentiable neural architecture search (DARTS) requires a pre-defined\\nover-parameterized backbone architecture, while its size is to be determined\\nmanually. Also, in DARTS backbone, Hadamard product of two elements is not\\nintroduced, which exists in both LSTM and GRU cells for recurrent nets. This\\nstudy introduces a growing mechanism for differentiable neural architecture\\nsearch based on network morphism. It enables growing of the cell structures\\nfrom small size towards large size ones with one-shot training. Two modes can\\nbe applied in integrating the growing and original pruning process. We also\\nimplement a recently proposed two-input backbone architecture for recurrent\\nneural networks. Initial experimental results indicate that our approach and\\nthe two-input backbone structure can be quite effective compared with other\\nbaseline architectures including LSTM, in a variety of learning tasks including\\nmulti-variate time series forecasting and language modeling. On the other hand,\\nwe find that dynamic network transformation is promising in improving the\\nefficiency of differentiable architecture search.'}]\n"
     ]
    }
   ],
   "source": [
    "import requests\n",
    "from xml.etree import ElementTree\n",
    "from urllib.parse import quote_plus\n",
    "from typing import List, Dict\n",
    "from functools import wraps\n",
    "from datetime import datetime\n",
    "\n",
    "def log_decorator(func):\n",
    "    @wraps(func)\n",
    "    def wrapper(*args, **kwargs):\n",
    "        start_time = datetime.now()\n",
    "        print(f\"[{start_time}] Starting {func.__name__} with args: {args}\")\n",
    "        try:\n",
    "            result = func(*args, **kwargs)\n",
    "            print(f\"[{datetime.now()}] Successfully completed {func.__name__}\")\n",
    "            return result\n",
    "        except Exception as e:\n",
    "            print(f\"[{datetime.now()}] Error in {func.__name__}: {str(e)}\")\n",
    "            raise\n",
    "    return wrapper\n",
    "\n",
    "@log_decorator\n",
    "def fetch_arxiv(query: str) -> List[Dict[str, any]]:\n",
    "    \"\"\"Fetches academic papers related to the query from arXiv.\n",
    "    Returns a list of relevant academic papers with titles, authors, and abstracts.\n",
    "    \n",
    "    Args:\n",
    "        query (str): Search query for papers\n",
    "        \n",
    "    Returns:\n",
    "        List[Dict]: List of papers with title, authors, abstract, and url\n",
    "    \"\"\"\n",
    "    try:\n",
    "        # Prepare URL with sanitized query\n",
    "        sanitized_query = quote_plus(query.strip())\n",
    "        url = f\"http://export.arxiv.org/api/query?search_query=all:{sanitized_query}&start=0&max_results=5\"\n",
    "        \n",
    "        # Make request\n",
    "        response = requests.get(url, timeout=10)\n",
    "        response.raise_for_status()\n",
    "\n",
    "        # Parse XML\n",
    "        root = ElementTree.fromstring(response.content)\n",
    "        formatted_papers = []\n",
    "\n",
    "        # Process each entry\n",
    "        for entry in root.findall('{http://www.w3.org/2005/Atom}entry'):\n",
    "            try:\n",
    "                # Extract paper details\n",
    "                title = entry.find('{http://www.w3.org/2005/Atom}title').text.strip()\n",
    "                abstract = entry.find('{http://www.w3.org/2005/Atom}summary').text.strip()\n",
    "                authors = [author.find('{http://www.w3.org/2005/Atom}name').text.strip()\n",
    "                          for author in entry.findall('{http://www.w3.org/2005/Atom}author')]\n",
    "                \n",
    "                # Get paper URL\n",
    "                url = next(\n",
    "                    (link.get('href') for link in entry.findall('{http://www.w3.org/2005/Atom}link') \n",
    "                     if link.get('rel') == 'alternate'),\n",
    "                    None\n",
    "                )\n",
    "                \n",
    "                formatted_papers.append({\n",
    "                    \"title\": title,\n",
    "                    \"authors\": authors,\n",
    "                    \"abstract\": abstract,\n",
    "                    \"url\": url\n",
    "                })\n",
    "            except AttributeError as e:\n",
    "                print(f\"[{datetime.now()}] Skipping paper due to missing data: {str(e)}\")\n",
    "                continue\n",
    "\n",
    "        return formatted_papers\n",
    "\n",
    "    except Exception as e:\n",
    "        print(f\"[{datetime.now()}] Error fetching papers: {str(e)}\")\n",
    "        return []\n",
    "\n",
    "if __name__ == \"__main__\":\n",
    "    papers = fetch_arxiv(\"transformer architecture improvements\")\n",
    "    for paper in papers:\n",
    "        print(\"\\nTitle:\", paper['title'])\n",
    "        print(\"Authors:\", \", \".join(paper['authors']))\n",
    "        print(\"URL:\", paper['url'])\n",
    "        print(\"Abstract:\", paper['abstract'][:200] + \"...\")"
   ]
  },
  {
   "cell_type": "code",
   "execution_count": null,
   "id": "dba934c4140ba02a",
   "metadata": {},
   "outputs": [],
   "source": []
  }
 ],
 "metadata": {
  "kernelspec": {
   "display_name": "Python 3",
   "language": "python",
   "name": "python3"
  },
  "language_info": {
   "codemirror_mode": {
    "name": "ipython",
    "version": 2
   },
   "file_extension": ".py",
   "mimetype": "text/x-python",
   "name": "python",
   "nbconvert_exporter": "python",
   "pygments_lexer": "ipython2",
   "version": "2.7.6"
  }
 },
 "nbformat": 4,
 "nbformat_minor": 5
}
